{
 "cells": [
  {
   "cell_type": "markdown",
   "id": "68c67da0-46cd-44a6-8caf-ea428edbb2e7",
   "metadata": {},
   "source": [
    "Experiment 1 - Introduction to Python Programming"
   ]
  },
  {
   "cell_type": "markdown",
   "id": "4077fecf-5eab-4467-96e3-826678a6fd13",
   "metadata": {},
   "source": [
    "1) Alphabet Soup Problem"
   ]
  },
  {
   "cell_type": "code",
   "execution_count": 287,
   "id": "67794ea6-5d8e-4a73-8d51-722080a05079",
   "metadata": {},
   "outputs": [
    {
     "name": "stdout",
     "output_type": "stream",
     "text": [
      "Output:  aacdeinrsu\n"
     ]
    }
   ],
   "source": [
    "#Type in the quotation marks the word that you wish to be arranged alphabetically\n",
    "w = \"sean audric\"\n",
    "word = list(w)\n",
    "word.sort()\n",
    "sorted_word = ''.join(word)\n",
    "print (\"Output:\", sorted_word)"
   ]
  },
  {
   "cell_type": "markdown",
   "id": "06a9a66e-9ffc-4315-8440-08c06aa5b877",
   "metadata": {},
   "source": [
    "2) Emoticon Problem"
   ]
  },
  {
   "cell_type": "code",
   "execution_count": 289,
   "id": "b8b33830-0043-4785-a5a2-ddbcd2f06034",
   "metadata": {},
   "outputs": [
    {
     "name": "stdout",
     "output_type": "stream",
     "text": [
      "Output: I feel like I want to :) :D be :(( and be >:( all at the same time.\n"
     ]
    }
   ],
   "source": [
    "def emoticon_converter(sentence):\n",
    "    emoticon_translated = {\n",
    "        'smile': ':)',\n",
    "        'grin': ':D',\n",
    "        'sad': ':((',\n",
    "        'mad': '>:('\n",
    "    }\n",
    "    words = sentence.split()\n",
    "    translated_words = [emoticon_translated.get(word, word) for word in words]\n",
    "    return ' '.join(translated_words)\n",
    "\n",
    "#Type in the quotation marks the sentence you wish to be emotified\n",
    "input_sentence = \"I feel like I want to smile grin be sad and be mad all at the same time.\"\n",
    "\n",
    "output_sentence = emoticon_converter(input_sentence)\n",
    "print(\"Output:\", output_sentence)\n"
   ]
  },
  {
   "cell_type": "markdown",
   "id": "a39a5d4c-fb30-45fe-bacd-b557d85ad33c",
   "metadata": {},
   "source": [
    "3) Unpacking List Problem"
   ]
  },
  {
   "cell_type": "code",
   "execution_count": 291,
   "id": "ed7793ef-841b-4ad0-a3cb-ec72752368c2",
   "metadata": {},
   "outputs": [
    {
     "name": "stdout",
     "output_type": "stream",
     "text": [
      "Output:\n",
      "First: 1      Middle: [2, 3, 4, 5, 6, 7]      Last: 8\n"
     ]
    }
   ],
   "source": [
    "#Input the numbers you want to be unpacked\n",
    "variables = [1,2,3,4,5,6,7,8]\n",
    "\n",
    "first_element = variables [0]\n",
    "middle_elements = variables [1:-1]\n",
    "last_element = variables [-1]\n",
    "\n",
    "print(\"Output:\")\n",
    "print(\"First:\", first_element, \"     Middle:\", middle_elements, \"     Last:\", last_element)"
   ]
  }
 ],
 "metadata": {
  "kernelspec": {
   "display_name": "Python 3 (ipykernel)",
   "language": "python",
   "name": "python3"
  },
  "language_info": {
   "codemirror_mode": {
    "name": "ipython",
    "version": 3
   },
   "file_extension": ".py",
   "mimetype": "text/x-python",
   "name": "python",
   "nbconvert_exporter": "python",
   "pygments_lexer": "ipython3",
   "version": "3.12.4"
  }
 },
 "nbformat": 4,
 "nbformat_minor": 5
}
